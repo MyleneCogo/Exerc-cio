{
  "nbformat": 4,
  "nbformat_minor": 0,
  "metadata": {
    "colab": {
      "provenance": [],
      "authorship_tag": "ABX9TyNlE73xuLBSAXbiuAw+2QBY",
      "include_colab_link": true
    },
    "kernelspec": {
      "name": "python3",
      "display_name": "Python 3"
    },
    "language_info": {
      "name": "python"
    }
  },
  "cells": [
    {
      "cell_type": "markdown",
      "metadata": {
        "id": "view-in-github",
        "colab_type": "text"
      },
      "source": [
        "<a href=\"https://colab.research.google.com/github/MyleneCogo/Exerc-cio/blob/main/Mylene_Ex2.ipynb\" target=\"_parent\"><img src=\"https://colab.research.google.com/assets/colab-badge.svg\" alt=\"Open In Colab\"/></a>"
      ]
    },
    {
      "cell_type": "markdown",
      "source": [
        "Exercício 1"
      ],
      "metadata": {
        "id": "mcSmM-cMAiWU"
      }
    },
    {
      "cell_type": "code",
      "source": [
        "nome = \"Mylene\""
      ],
      "metadata": {
        "id": "iuOq-yl3AmNg"
      },
      "execution_count": 1,
      "outputs": []
    },
    {
      "cell_type": "code",
      "source": [
        "idade = 22"
      ],
      "metadata": {
        "id": "tTymlZWvApHP"
      },
      "execution_count": 2,
      "outputs": []
    },
    {
      "cell_type": "code",
      "source": [
        "altura = 1,70"
      ],
      "metadata": {
        "id": "Vfuw8EN6Ar56"
      },
      "execution_count": 3,
      "outputs": []
    },
    {
      "cell_type": "code",
      "source": [
        "print(\"Meu nome é {a}, tenho {b} anos e minha altura é {c} metros\".format(a = nome, b = idade, c = altura))"
      ],
      "metadata": {
        "colab": {
          "base_uri": "https://localhost:8080/"
        },
        "id": "cjRLoVq6AvY-",
        "outputId": "114c6e79-ecb9-4fdf-a0f0-4e0594c32928"
      },
      "execution_count": 4,
      "outputs": [
        {
          "output_type": "stream",
          "name": "stdout",
          "text": [
            "Meu nome é Mylene, tenho 22 anos e minha altura é (1, 70) metros\n"
          ]
        }
      ]
    },
    {
      "cell_type": "markdown",
      "source": [
        "Exercício 2"
      ],
      "metadata": {
        "id": "vn9jPaG1BV5J"
      }
    },
    {
      "cell_type": "markdown",
      "source": [],
      "metadata": {
        "id": "3M29mLkiBXy_"
      }
    },
    {
      "cell_type": "code",
      "source": [
        "frase = \"Python é uma linguagem de programação muito poderosa.\""
      ],
      "metadata": {
        "id": "fri0DNSYBaG9"
      },
      "execution_count": 5,
      "outputs": []
    },
    {
      "cell_type": "code",
      "source": [
        "frase.upper()"
      ],
      "metadata": {
        "colab": {
          "base_uri": "https://localhost:8080/",
          "height": 35
        },
        "id": "-zuHhlQlBfPh",
        "outputId": "d744b61d-0c08-4eba-87a3-c56ee86b24ac"
      },
      "execution_count": 6,
      "outputs": [
        {
          "output_type": "execute_result",
          "data": {
            "text/plain": [
              "'PYTHON É UMA LINGUAGEM DE PROGRAMAÇÃO MUITO PODEROSA.'"
            ],
            "application/vnd.google.colaboratory.intrinsic+json": {
              "type": "string"
            }
          },
          "metadata": {},
          "execution_count": 6
        }
      ]
    },
    {
      "cell_type": "code",
      "source": [
        "frase.lower()"
      ],
      "metadata": {
        "colab": {
          "base_uri": "https://localhost:8080/",
          "height": 35
        },
        "id": "viF4X-tWBiAh",
        "outputId": "ac52e07e-3cbd-4197-b280-b48fca6e8834"
      },
      "execution_count": 7,
      "outputs": [
        {
          "output_type": "execute_result",
          "data": {
            "text/plain": [
              "'python é uma linguagem de programação muito poderosa.'"
            ],
            "application/vnd.google.colaboratory.intrinsic+json": {
              "type": "string"
            }
          },
          "metadata": {},
          "execution_count": 7
        }
      ]
    },
    {
      "cell_type": "code",
      "source": [
        "frase.replace(\"muito\", \"extremamente\")"
      ],
      "metadata": {
        "colab": {
          "base_uri": "https://localhost:8080/",
          "height": 35
        },
        "id": "3tOQ6iGQBpPi",
        "outputId": "495f346f-0743-41e1-c468-b76ff141eb20"
      },
      "execution_count": 8,
      "outputs": [
        {
          "output_type": "execute_result",
          "data": {
            "text/plain": [
              "'Python é uma linguagem de programação extremamente poderosa.'"
            ],
            "application/vnd.google.colaboratory.intrinsic+json": {
              "type": "string"
            }
          },
          "metadata": {},
          "execution_count": 8
        }
      ]
    },
    {
      "cell_type": "code",
      "source": [
        "lista = frase.split(\" \")\n",
        "lista"
      ],
      "metadata": {
        "colab": {
          "base_uri": "https://localhost:8080/"
        },
        "id": "0IUHe4DmBwPB",
        "outputId": "ba58fa24-f99d-42e7-ebc7-90a8846c6a3d"
      },
      "execution_count": 9,
      "outputs": [
        {
          "output_type": "execute_result",
          "data": {
            "text/plain": [
              "['Python', 'é', 'uma', 'linguagem', 'de', 'programação', 'muito', 'poderosa.']"
            ]
          },
          "metadata": {},
          "execution_count": 9
        }
      ]
    },
    {
      "cell_type": "markdown",
      "source": [],
      "metadata": {
        "id": "j5vXNvQ6B6NH"
      }
    },
    {
      "cell_type": "markdown",
      "source": [
        "Exercício 3"
      ],
      "metadata": {
        "id": "XXGPNGotB-mw"
      }
    },
    {
      "cell_type": "code",
      "source": [
        "frutas = [\"maçã\", \"banana\", \"laranja\", \"uva\", \"abacaxi\"]\n",
        "frutas"
      ],
      "metadata": {
        "colab": {
          "base_uri": "https://localhost:8080/"
        },
        "id": "VqvzAcKaCAiv",
        "outputId": "60e25fa1-1c29-462b-c5df-137c38cc2ebd"
      },
      "execution_count": 10,
      "outputs": [
        {
          "output_type": "execute_result",
          "data": {
            "text/plain": [
              "['maçã', 'banana', 'laranja', 'uva', 'abacaxi']"
            ]
          },
          "metadata": {},
          "execution_count": 10
        }
      ]
    },
    {
      "cell_type": "code",
      "source": [
        "frutas.append(\"manga\")\n",
        "frutas"
      ],
      "metadata": {
        "colab": {
          "base_uri": "https://localhost:8080/"
        },
        "id": "zoWrQXICCEYX",
        "outputId": "71cdf7fb-4516-41b8-ef91-2b5577dfaa5d"
      },
      "execution_count": 11,
      "outputs": [
        {
          "output_type": "execute_result",
          "data": {
            "text/plain": [
              "['maçã', 'banana', 'laranja', 'uva', 'abacaxi', 'manga']"
            ]
          },
          "metadata": {},
          "execution_count": 11
        }
      ]
    },
    {
      "cell_type": "code",
      "source": [
        "frutas.remove(\"laranja\")\n",
        "frutas"
      ],
      "metadata": {
        "colab": {
          "base_uri": "https://localhost:8080/"
        },
        "id": "vRtZMQiMCHV4",
        "outputId": "ad00412e-2997-49de-8aa2-66367faf94e0"
      },
      "execution_count": 12,
      "outputs": [
        {
          "output_type": "execute_result",
          "data": {
            "text/plain": [
              "['maçã', 'banana', 'uva', 'abacaxi', 'manga']"
            ]
          },
          "metadata": {},
          "execution_count": 12
        }
      ]
    },
    {
      "cell_type": "code",
      "source": [
        "frutas[2:3]"
      ],
      "metadata": {
        "colab": {
          "base_uri": "https://localhost:8080/"
        },
        "id": "cWbqYdi9CPRM",
        "outputId": "ccbdef43-3049-43df-f5a0-14fc8c735a1d"
      },
      "execution_count": 13,
      "outputs": [
        {
          "output_type": "execute_result",
          "data": {
            "text/plain": [
              "['uva']"
            ]
          },
          "metadata": {},
          "execution_count": 13
        }
      ]
    },
    {
      "cell_type": "code",
      "source": [
        "frutas.sort()\n",
        "frutas"
      ],
      "metadata": {
        "colab": {
          "base_uri": "https://localhost:8080/"
        },
        "id": "BQ9NXdC0CX3h",
        "outputId": "35dce629-8154-4383-f723-5b32600e87fe"
      },
      "execution_count": 14,
      "outputs": [
        {
          "output_type": "execute_result",
          "data": {
            "text/plain": [
              "['abacaxi', 'banana', 'manga', 'maçã', 'uva']"
            ]
          },
          "metadata": {},
          "execution_count": 14
        }
      ]
    },
    {
      "cell_type": "code",
      "source": [
        "numeros = [10, 5, 8, 3, 6]\n",
        "sum(numeros)"
      ],
      "metadata": {
        "colab": {
          "base_uri": "https://localhost:8080/"
        },
        "id": "HTKww0DbCbld",
        "outputId": "48d3b805-9050-40ee-c138-c00e8f2b3a5f"
      },
      "execution_count": 15,
      "outputs": [
        {
          "output_type": "execute_result",
          "data": {
            "text/plain": [
              "32"
            ]
          },
          "metadata": {},
          "execution_count": 15
        }
      ]
    },
    {
      "cell_type": "markdown",
      "source": [
        "Exercício 4"
      ],
      "metadata": {
        "id": "MuueVZz2Cn9-"
      }
    },
    {
      "cell_type": "code",
      "source": [
        "pessoas = {\"nome\": \"Carlos\", \"idade\": 30, \"cidade\": \"São Paulo\"}\n",
        "pessoas"
      ],
      "metadata": {
        "colab": {
          "base_uri": "https://localhost:8080/"
        },
        "id": "uZo6tDLfCgn2",
        "outputId": "95a882de-80ce-4831-a713-ab30fed8097c"
      },
      "execution_count": 16,
      "outputs": [
        {
          "output_type": "execute_result",
          "data": {
            "text/plain": [
              "{'nome': 'Carlos', 'idade': 30, 'cidade': 'São Paulo'}"
            ]
          },
          "metadata": {},
          "execution_count": 16
        }
      ]
    },
    {
      "cell_type": "code",
      "source": [
        "pessoas['nome']"
      ],
      "metadata": {
        "colab": {
          "base_uri": "https://localhost:8080/",
          "height": 35
        },
        "id": "HIC5wdQaCvFb",
        "outputId": "e1b9a369-f817-42c6-bbab-94e163f8926e"
      },
      "execution_count": 17,
      "outputs": [
        {
          "output_type": "execute_result",
          "data": {
            "text/plain": [
              "'Carlos'"
            ],
            "application/vnd.google.colaboratory.intrinsic+json": {
              "type": "string"
            }
          },
          "metadata": {},
          "execution_count": 17
        }
      ]
    },
    {
      "cell_type": "code",
      "source": [
        "pessoas['idade'] = 31\n",
        "pessoas"
      ],
      "metadata": {
        "colab": {
          "base_uri": "https://localhost:8080/"
        },
        "id": "tyDweF1dC1Bu",
        "outputId": "1f5430b5-a70d-46ba-f2d5-54e722f84b3f"
      },
      "execution_count": 18,
      "outputs": [
        {
          "output_type": "execute_result",
          "data": {
            "text/plain": [
              "{'nome': 'Carlos', 'idade': 31, 'cidade': 'São Paulo'}"
            ]
          },
          "metadata": {},
          "execution_count": 18
        }
      ]
    },
    {
      "cell_type": "code",
      "source": [
        "pessoas['profissão'] = 'Engenheiro'\n",
        "pessoas"
      ],
      "metadata": {
        "colab": {
          "base_uri": "https://localhost:8080/"
        },
        "id": "NQSdmS4qC4a9",
        "outputId": "debb89dd-89d5-4a09-a003-5c7e9e172f1d"
      },
      "execution_count": 19,
      "outputs": [
        {
          "output_type": "execute_result",
          "data": {
            "text/plain": [
              "{'nome': 'Carlos',\n",
              " 'idade': 31,\n",
              " 'cidade': 'São Paulo',\n",
              " 'profissão': 'Engenheiro'}"
            ]
          },
          "metadata": {},
          "execution_count": 19
        }
      ]
    },
    {
      "cell_type": "code",
      "source": [
        "pessoas.pop('cidade')\n",
        "pessoas"
      ],
      "metadata": {
        "colab": {
          "base_uri": "https://localhost:8080/"
        },
        "id": "wiLVuTEFC9w1",
        "outputId": "73188c9d-1278-41a9-8795-bf222ec16dc8"
      },
      "execution_count": 20,
      "outputs": [
        {
          "output_type": "execute_result",
          "data": {
            "text/plain": [
              "{'nome': 'Carlos', 'idade': 31, 'profissão': 'Engenheiro'}"
            ]
          },
          "metadata": {},
          "execution_count": 20
        }
      ]
    },
    {
      "cell_type": "code",
      "source": [
        "pessoas.keys()"
      ],
      "metadata": {
        "colab": {
          "base_uri": "https://localhost:8080/"
        },
        "id": "IDsCbkSCDB7x",
        "outputId": "e9bc0b67-148a-4b19-c04f-5a5c3db374ca"
      },
      "execution_count": 21,
      "outputs": [
        {
          "output_type": "execute_result",
          "data": {
            "text/plain": [
              "dict_keys(['nome', 'idade', 'profissão'])"
            ]
          },
          "metadata": {},
          "execution_count": 21
        }
      ]
    },
    {
      "cell_type": "code",
      "source": [
        "pessoas.values()"
      ],
      "metadata": {
        "colab": {
          "base_uri": "https://localhost:8080/"
        },
        "id": "lhcPuUONDIul",
        "outputId": "9f680fb1-425c-4fed-dfca-76cd06ceaf03"
      },
      "execution_count": 22,
      "outputs": [
        {
          "output_type": "execute_result",
          "data": {
            "text/plain": [
              "dict_values(['Carlos', 31, 'Engenheiro'])"
            ]
          },
          "metadata": {},
          "execution_count": 22
        }
      ]
    },
    {
      "cell_type": "markdown",
      "source": [
        "Exercício 5"
      ],
      "metadata": {
        "id": "5vf0KS3BDMXR"
      }
    },
    {
      "cell_type": "code",
      "source": [
        "cores = (\"vermelho\", \"azul\", \"verde\", \"amerelo\", \"roxo\")\n",
        "cores"
      ],
      "metadata": {
        "colab": {
          "base_uri": "https://localhost:8080/"
        },
        "id": "Z1BfEbPRDLV2",
        "outputId": "635e63d5-4437-4a1c-eef3-23ab873ddb93"
      },
      "execution_count": 23,
      "outputs": [
        {
          "output_type": "execute_result",
          "data": {
            "text/plain": [
              "('vermelho', 'azul', 'verde', 'amerelo', 'roxo')"
            ]
          },
          "metadata": {},
          "execution_count": 23
        }
      ]
    },
    {
      "cell_type": "code",
      "source": [
        "cores[1]"
      ],
      "metadata": {
        "colab": {
          "base_uri": "https://localhost:8080/",
          "height": 35
        },
        "id": "iTf22eCFDUUe",
        "outputId": "2b1f82a5-26d4-4e64-c7c3-63b4ffb39a86"
      },
      "execution_count": 24,
      "outputs": [
        {
          "output_type": "execute_result",
          "data": {
            "text/plain": [
              "'azul'"
            ],
            "application/vnd.google.colaboratory.intrinsic+json": {
              "type": "string"
            }
          },
          "metadata": {},
          "execution_count": 24
        }
      ]
    },
    {
      "cell_type": "code",
      "source": [
        "\"azul\" in cores"
      ],
      "metadata": {
        "colab": {
          "base_uri": "https://localhost:8080/"
        },
        "id": "A3EOBbxcDWYm",
        "outputId": "a9219314-3523-478f-cec6-f8c947311bee"
      },
      "execution_count": 25,
      "outputs": [
        {
          "output_type": "execute_result",
          "data": {
            "text/plain": [
              "True"
            ]
          },
          "metadata": {},
          "execution_count": 25
        }
      ]
    },
    {
      "cell_type": "code",
      "source": [
        "números = (1,2,3,4,5)\n",
        "sum(números)"
      ],
      "metadata": {
        "colab": {
          "base_uri": "https://localhost:8080/"
        },
        "id": "_zAJJHmyDcV8",
        "outputId": "8a31beac-d566-4ea5-f09d-12117044dd83"
      },
      "execution_count": 26,
      "outputs": [
        {
          "output_type": "execute_result",
          "data": {
            "text/plain": [
              "15"
            ]
          },
          "metadata": {},
          "execution_count": 26
        }
      ]
    },
    {
      "cell_type": "code",
      "source": [
        "cores[2] = \"laranja\""
      ],
      "metadata": {
        "colab": {
          "base_uri": "https://localhost:8080/",
          "height": 141
        },
        "id": "IkuJ0l7bDepE",
        "outputId": "a4eca7f1-3c87-4c97-860f-0484fbdeb521"
      },
      "execution_count": 27,
      "outputs": [
        {
          "output_type": "error",
          "ename": "TypeError",
          "evalue": "'tuple' object does not support item assignment",
          "traceback": [
            "\u001b[0;31m---------------------------------------------------------------------------\u001b[0m",
            "\u001b[0;31mTypeError\u001b[0m                                 Traceback (most recent call last)",
            "\u001b[0;32m<ipython-input-27-42be83b75d02>\u001b[0m in \u001b[0;36m<cell line: 0>\u001b[0;34m()\u001b[0m\n\u001b[0;32m----> 1\u001b[0;31m \u001b[0mcores\u001b[0m\u001b[0;34m[\u001b[0m\u001b[0;36m2\u001b[0m\u001b[0;34m]\u001b[0m \u001b[0;34m=\u001b[0m \u001b[0;34m\"laranja\"\u001b[0m\u001b[0;34m\u001b[0m\u001b[0;34m\u001b[0m\u001b[0m\n\u001b[0m",
            "\u001b[0;31mTypeError\u001b[0m: 'tuple' object does not support item assignment"
          ]
        }
      ]
    },
    {
      "cell_type": "markdown",
      "source": [
        "Não é possível modificar os valores de uma tupla, pois elas são imutáveis. Isso garante que os dados sejam armazenados de forma estática e segura, prevenindo alterações acidentais durante a execução do código."
      ],
      "metadata": {
        "id": "1U7yYCP9Dx7Y"
      }
    },
    {
      "cell_type": "code",
      "source": [
        "nova_cores = cores + (\"preto\", \"branco\")\n",
        "nova_cores"
      ],
      "metadata": {
        "colab": {
          "base_uri": "https://localhost:8080/"
        },
        "id": "kpmkMcFMDjYx",
        "outputId": "5b33a485-9704-45ea-c3f1-d8c434734295"
      },
      "execution_count": 28,
      "outputs": [
        {
          "output_type": "execute_result",
          "data": {
            "text/plain": [
              "('vermelho', 'azul', 'verde', 'amerelo', 'roxo', 'preto', 'branco')"
            ]
          },
          "metadata": {},
          "execution_count": 28
        }
      ]
    },
    {
      "cell_type": "markdown",
      "source": [
        "Exercício 6"
      ],
      "metadata": {
        "id": "H9kDRU4wD6dt"
      }
    },
    {
      "cell_type": "code",
      "source": [
        "print(\"Digite sua altura: \")\n",
        "alt = input()\n",
        "print(\"Digite seu peso: \")\n",
        "peso = input()\n",
        "print(\"Seu IMC é: \", float(peso) / float(alt)**2)"
      ],
      "metadata": {
        "colab": {
          "base_uri": "https://localhost:8080/"
        },
        "id": "jZKBe271D3to",
        "outputId": "7af5fb2f-4155-45b8-ecbe-8711093a1a7d"
      },
      "execution_count": 29,
      "outputs": [
        {
          "output_type": "stream",
          "name": "stdout",
          "text": [
            "Digite sua altura: \n",
            "1.70\n",
            "Digite seu peso: \n",
            "65\n",
            "Seu IMC é:  22.49134948096886\n"
          ]
        }
      ]
    },
    {
      "cell_type": "markdown",
      "source": [
        "Exercício 7"
      ],
      "metadata": {
        "id": "Owh-ueKnEKAy"
      }
    },
    {
      "cell_type": "code",
      "source": [
        "print(\"Digite seu nome completo: \")\n",
        "name = input()\n",
        "lista_name = name.split()\n",
        "print(\"Olá, {d}!\".format(d = lista_name[0]))"
      ],
      "metadata": {
        "colab": {
          "base_uri": "https://localhost:8080/"
        },
        "id": "-5bya0JOEFVJ",
        "outputId": "577e980e-cb3b-412c-ca6c-876e0473912c"
      },
      "execution_count": 31,
      "outputs": [
        {
          "output_type": "stream",
          "name": "stdout",
          "text": [
            "Digite seu nome completo: \n",
            "Mylene Barreto Côgo\n",
            "Olá, Mylene!\n"
          ]
        }
      ]
    },
    {
      "cell_type": "markdown",
      "source": [
        "Exercício 8"
      ],
      "metadata": {
        "id": "t1cDPvNzEZk2"
      }
    },
    {
      "cell_type": "code",
      "source": [
        "print(\"Digite o seu email:\")\n",
        "email = input()\n",
        "lista_email = email.split(\"@\")\n",
        "print(\"O domínio do seu email é: {e}\".format(e = lista_email[1]))"
      ],
      "metadata": {
        "colab": {
          "base_uri": "https://localhost:8080/"
        },
        "id": "3fxOQnzbESHJ",
        "outputId": "1142aae5-f60d-43cb-ac50-bb85e90f40d0"
      },
      "execution_count": 32,
      "outputs": [
        {
          "output_type": "stream",
          "name": "stdout",
          "text": [
            "Digite o seu email:\n",
            "cogomylene0@gmail.com\n",
            "O domínio do seu email é: gmail.com\n"
          ]
        }
      ]
    },
    {
      "cell_type": "markdown",
      "source": [
        "Exercício 9"
      ],
      "metadata": {
        "id": "E8hfXB7GEi4O"
      }
    },
    {
      "cell_type": "code",
      "source": [
        "print(\"Quanto você ganha por hora?\")\n",
        "ganho_hora = float(input())\n",
        "print(\"Quantas horas você trabalha por mês?\")\n",
        "horas_mes = float(input())\n",
        "salario_bruto = ganho_hora * horas_mes\n",
        "imposto_renda = salario_bruto * 0.11\n",
        "inss = salario_bruto * 0.08\n",
        "sindicato = salario_bruto * 0.05\n",
        "salario_liquido = salario_bruto - inss - sindicato - imposto_renda\n",
        "print(\"\\nSeu salário bruto é:R${f}\\n\".format(f = salario_bruto))\n",
        "print(\"Você pagou R${g} de imposto de renda.\\n\".format(g = imposto_renda))\n",
        "print(\"Você pagou R${h} de INSS.\\n\".format(h = inss))\n",
        "print(\"Você pagou R${i} de sindicato.\\n\".format(i = sindicato))\n",
        "print(\"Seu salário líquido é:R${j}\".format(j = salario_liquido))"
      ],
      "metadata": {
        "colab": {
          "base_uri": "https://localhost:8080/"
        },
        "id": "0bfjXDXtEe3K",
        "outputId": "06eb1c30-108f-42ec-a915-38d00e7841dd"
      },
      "execution_count": 33,
      "outputs": [
        {
          "output_type": "stream",
          "name": "stdout",
          "text": [
            "Quanto você ganha por hora?\n",
            "3\n",
            "Quantas horas você trabalha por mês?\n",
            "6\n",
            "\n",
            "Seu salário bruto é:R$18.0\n",
            "\n",
            "Você pagou R$1.98 de imposto de renda.\n",
            "\n",
            "Você pagou R$1.44 de INSS.\n",
            "\n",
            "Você pagou R$0.9 de sindicato.\n",
            "\n",
            "Seu salário líquido é:R$13.679999999999998\n"
          ]
        }
      ]
    }
  ]
}