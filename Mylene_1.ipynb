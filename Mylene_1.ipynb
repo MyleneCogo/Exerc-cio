{
 "cells": [
  {
   "cell_type": "markdown",
   "id": "fce58150-ef13-4858-aed7-e0804c9008ce",
   "metadata": {},
   "source": [
    "# Exercício 1"
   ]
  },
  {
   "cell_type": "code",
   "execution_count": 32,
   "id": "ecee6fe6-f91d-4ebe-90e4-aa11f75345a8",
   "metadata": {
    "tags": []
   },
   "outputs": [
    {
     "data": {
      "text/html": [
       "<div>\n",
       "<style scoped>\n",
       "    .dataframe tbody tr th:only-of-type {\n",
       "        vertical-align: middle;\n",
       "    }\n",
       "\n",
       "    .dataframe tbody tr th {\n",
       "        vertical-align: top;\n",
       "    }\n",
       "\n",
       "    .dataframe thead th {\n",
       "        text-align: right;\n",
       "    }\n",
       "</style>\n",
       "<table border=\"1\" class=\"dataframe\">\n",
       "  <thead>\n",
       "    <tr style=\"text-align: right;\">\n",
       "      <th></th>\n",
       "      <th>Id</th>\n",
       "      <th>Bloco</th>\n",
       "      <th>Andar</th>\n",
       "      <th>Final</th>\n",
       "      <th>Sala</th>\n",
       "      <th>Cozinha</th>\n",
       "      <th>Banheiro</th>\n",
       "      <th>Dorm</th>\n",
       "      <th>Rachadura</th>\n",
       "      <th>Infiltr</th>\n",
       "    </tr>\n",
       "  </thead>\n",
       "  <tbody>\n",
       "    <tr>\n",
       "      <th>0</th>\n",
       "      <td>1</td>\n",
       "      <td>A</td>\n",
       "      <td>1</td>\n",
       "      <td>1</td>\n",
       "      <td>27.8</td>\n",
       "      <td>7.9</td>\n",
       "      <td>5.0</td>\n",
       "      <td>11.6</td>\n",
       "      <td>ausente</td>\n",
       "      <td>ausente</td>\n",
       "    </tr>\n",
       "    <tr>\n",
       "      <th>1</th>\n",
       "      <td>2</td>\n",
       "      <td>A</td>\n",
       "      <td>1</td>\n",
       "      <td>2</td>\n",
       "      <td>28.3</td>\n",
       "      <td>7.3</td>\n",
       "      <td>5.4</td>\n",
       "      <td>13.1</td>\n",
       "      <td>ausente</td>\n",
       "      <td>ausente</td>\n",
       "    </tr>\n",
       "    <tr>\n",
       "      <th>2</th>\n",
       "      <td>3</td>\n",
       "      <td>A</td>\n",
       "      <td>1</td>\n",
       "      <td>3</td>\n",
       "      <td>27.1</td>\n",
       "      <td>7.1</td>\n",
       "      <td>5.0</td>\n",
       "      <td>14.9</td>\n",
       "      <td>ausente</td>\n",
       "      <td>ausente</td>\n",
       "    </tr>\n",
       "    <tr>\n",
       "      <th>3</th>\n",
       "      <td>4</td>\n",
       "      <td>A</td>\n",
       "      <td>1</td>\n",
       "      <td>4</td>\n",
       "      <td>26.5</td>\n",
       "      <td>8.4</td>\n",
       "      <td>3.9</td>\n",
       "      <td>12.4</td>\n",
       "      <td>presente</td>\n",
       "      <td>presente</td>\n",
       "    </tr>\n",
       "    <tr>\n",
       "      <th>4</th>\n",
       "      <td>5</td>\n",
       "      <td>A</td>\n",
       "      <td>2</td>\n",
       "      <td>1</td>\n",
       "      <td>27.7</td>\n",
       "      <td>7.6</td>\n",
       "      <td>4.7</td>\n",
       "      <td>12.1</td>\n",
       "      <td>ausente</td>\n",
       "      <td>ausente</td>\n",
       "    </tr>\n",
       "    <tr>\n",
       "      <th>...</th>\n",
       "      <td>...</td>\n",
       "      <td>...</td>\n",
       "      <td>...</td>\n",
       "      <td>...</td>\n",
       "      <td>...</td>\n",
       "      <td>...</td>\n",
       "      <td>...</td>\n",
       "      <td>...</td>\n",
       "      <td>...</td>\n",
       "      <td>...</td>\n",
       "    </tr>\n",
       "    <tr>\n",
       "      <th>147</th>\n",
       "      <td>148</td>\n",
       "      <td>B</td>\n",
       "      <td>18</td>\n",
       "      <td>4</td>\n",
       "      <td>23.5</td>\n",
       "      <td>7.4</td>\n",
       "      <td>4.3</td>\n",
       "      <td>12.2</td>\n",
       "      <td>ausente</td>\n",
       "      <td>presente</td>\n",
       "    </tr>\n",
       "    <tr>\n",
       "      <th>148</th>\n",
       "      <td>149</td>\n",
       "      <td>B</td>\n",
       "      <td>19</td>\n",
       "      <td>1</td>\n",
       "      <td>24.1</td>\n",
       "      <td>8.3</td>\n",
       "      <td>4.8</td>\n",
       "      <td>12.9</td>\n",
       "      <td>ausente</td>\n",
       "      <td>ausente</td>\n",
       "    </tr>\n",
       "    <tr>\n",
       "      <th>149</th>\n",
       "      <td>150</td>\n",
       "      <td>B</td>\n",
       "      <td>19</td>\n",
       "      <td>2</td>\n",
       "      <td>24.1</td>\n",
       "      <td>8.0</td>\n",
       "      <td>4.5</td>\n",
       "      <td>10.9</td>\n",
       "      <td>ausente</td>\n",
       "      <td>ausente</td>\n",
       "    </tr>\n",
       "    <tr>\n",
       "      <th>150</th>\n",
       "      <td>151</td>\n",
       "      <td>B</td>\n",
       "      <td>19</td>\n",
       "      <td>3</td>\n",
       "      <td>23.0</td>\n",
       "      <td>8.5</td>\n",
       "      <td>4.3</td>\n",
       "      <td>11.7</td>\n",
       "      <td>ausente</td>\n",
       "      <td>presente</td>\n",
       "    </tr>\n",
       "    <tr>\n",
       "      <th>151</th>\n",
       "      <td>152</td>\n",
       "      <td>B</td>\n",
       "      <td>19</td>\n",
       "      <td>4</td>\n",
       "      <td>22.7</td>\n",
       "      <td>7.8</td>\n",
       "      <td>4.2</td>\n",
       "      <td>15.7</td>\n",
       "      <td>ausente</td>\n",
       "      <td>presente</td>\n",
       "    </tr>\n",
       "  </tbody>\n",
       "</table>\n",
       "<p>152 rows × 10 columns</p>\n",
       "</div>"
      ],
      "text/plain": [
       "      Id Bloco  Andar  Final  Sala  Cozinha  Banheiro  Dorm Rachadura  \\\n",
       "0      1     A      1      1  27.8      7.9       5.0  11.6   ausente   \n",
       "1      2     A      1      2  28.3      7.3       5.4  13.1   ausente   \n",
       "2      3     A      1      3  27.1      7.1       5.0  14.9   ausente   \n",
       "3      4     A      1      4  26.5      8.4       3.9  12.4  presente   \n",
       "4      5     A      2      1  27.7      7.6       4.7  12.1   ausente   \n",
       "..   ...   ...    ...    ...   ...      ...       ...   ...       ...   \n",
       "147  148     B     18      4  23.5      7.4       4.3  12.2   ausente   \n",
       "148  149     B     19      1  24.1      8.3       4.8  12.9   ausente   \n",
       "149  150     B     19      2  24.1      8.0       4.5  10.9   ausente   \n",
       "150  151     B     19      3  23.0      8.5       4.3  11.7   ausente   \n",
       "151  152     B     19      4  22.7      7.8       4.2  15.7   ausente   \n",
       "\n",
       "      Infiltr  \n",
       "0     ausente  \n",
       "1     ausente  \n",
       "2     ausente  \n",
       "3    presente  \n",
       "4     ausente  \n",
       "..        ...  \n",
       "147  presente  \n",
       "148   ausente  \n",
       "149   ausente  \n",
       "150  presente  \n",
       "151  presente  \n",
       "\n",
       "[152 rows x 10 columns]"
      ]
     },
     "execution_count": 32,
     "metadata": {},
     "output_type": "execute_result"
    }
   ],
   "source": [
    "import pandas as pd\n",
    "\n",
    "areas = pd.read_csv(\"C:/Users/20221enpro0138/Downloads/areas.csv\", sep = \";\", decimal = \",\")\n",
    "\n",
    "areas"
   ]
  },
  {
   "cell_type": "markdown",
   "id": "b5b1a74b-8427-4be3-b473-0beac84da832",
   "metadata": {},
   "source": [
    "# a) Qual o número total de apartamentos no empreendimento?"
   ]
  },
  {
   "cell_type": "code",
   "execution_count": 33,
   "id": "b184dca1-afde-441e-a59b-4ffbc31734a7",
   "metadata": {
    "tags": []
   },
   "outputs": [
    {
     "data": {
      "text/plain": [
       "152"
      ]
     },
     "execution_count": 33,
     "metadata": {},
     "output_type": "execute_result"
    }
   ],
   "source": [
    "len(areas)"
   ]
  },
  {
   "cell_type": "markdown",
   "id": "030543f6-9501-49bb-a43f-9d9499e7da33",
   "metadata": {},
   "source": [
    "# b) Quantos apartamentos existem por bloco? "
   ]
  },
  {
   "cell_type": "code",
   "execution_count": 34,
   "id": "976777cc-f154-41b7-b621-8198c1bade78",
   "metadata": {
    "tags": []
   },
   "outputs": [
    {
     "data": {
      "text/plain": [
       "Bloco\n",
       "A    76\n",
       "B    76\n",
       "Name: count, dtype: int64"
      ]
     },
     "execution_count": 34,
     "metadata": {},
     "output_type": "execute_result"
    }
   ],
   "source": [
    "tabela_bloco = areas['Bloco'].value_counts()\n",
    "\n",
    "tabela_bloco"
   ]
  },
  {
   "cell_type": "markdown",
   "id": "074914f2-9871-4e12-9413-263690062652",
   "metadata": {},
   "source": [
    "# c) Quantos apartamentos existem por andar?"
   ]
  },
  {
   "cell_type": "code",
   "execution_count": 35,
   "id": "0334eeaf-46a8-4e1f-8fb6-04dee0a79e0a",
   "metadata": {
    "tags": []
   },
   "outputs": [
    {
     "data": {
      "text/plain": [
       "Andar\n",
       "1     8\n",
       "11    8\n",
       "18    8\n",
       "17    8\n",
       "16    8\n",
       "15    8\n",
       "14    8\n",
       "13    8\n",
       "12    8\n",
       "10    8\n",
       "2     8\n",
       "9     8\n",
       "8     8\n",
       "7     8\n",
       "6     8\n",
       "5     8\n",
       "4     8\n",
       "3     8\n",
       "19    8\n",
       "Name: count, dtype: int64"
      ]
     },
     "execution_count": 35,
     "metadata": {},
     "output_type": "execute_result"
    }
   ],
   "source": [
    "tabela_andar = areas['Andar'].value_counts()\n",
    "\n",
    "tabela_andar"
   ]
  },
  {
   "cell_type": "markdown",
   "id": "b03fbf5c-cde8-41d1-b163-4185610dd525",
   "metadata": {},
   "source": [
    "# 2. Existe a suspeita de que os apartamentos tenham sido construídos com metragens diferentes. O arquivo de dados traz as áreas de cada cômodo em separado. Acrescente uma nova coluna calculando a área útil total de cada apartamento.\n"
   ]
  },
  {
   "cell_type": "code",
   "execution_count": 36,
   "id": "3f789231-393d-43cf-aa34-1607d4234c75",
   "metadata": {
    "tags": []
   },
   "outputs": [
    {
     "data": {
      "text/html": [
       "<div>\n",
       "<style scoped>\n",
       "    .dataframe tbody tr th:only-of-type {\n",
       "        vertical-align: middle;\n",
       "    }\n",
       "\n",
       "    .dataframe tbody tr th {\n",
       "        vertical-align: top;\n",
       "    }\n",
       "\n",
       "    .dataframe thead th {\n",
       "        text-align: right;\n",
       "    }\n",
       "</style>\n",
       "<table border=\"1\" class=\"dataframe\">\n",
       "  <thead>\n",
       "    <tr style=\"text-align: right;\">\n",
       "      <th></th>\n",
       "      <th>Id</th>\n",
       "      <th>Bloco</th>\n",
       "      <th>Andar</th>\n",
       "      <th>Final</th>\n",
       "      <th>Sala</th>\n",
       "      <th>Cozinha</th>\n",
       "      <th>Banheiro</th>\n",
       "      <th>Dorm</th>\n",
       "      <th>Rachadura</th>\n",
       "      <th>Infiltr</th>\n",
       "      <th>Area Total</th>\n",
       "    </tr>\n",
       "  </thead>\n",
       "  <tbody>\n",
       "    <tr>\n",
       "      <th>0</th>\n",
       "      <td>1</td>\n",
       "      <td>A</td>\n",
       "      <td>1</td>\n",
       "      <td>1</td>\n",
       "      <td>27.8</td>\n",
       "      <td>7.9</td>\n",
       "      <td>5.0</td>\n",
       "      <td>11.6</td>\n",
       "      <td>ausente</td>\n",
       "      <td>ausente</td>\n",
       "      <td>52.3</td>\n",
       "    </tr>\n",
       "    <tr>\n",
       "      <th>1</th>\n",
       "      <td>2</td>\n",
       "      <td>A</td>\n",
       "      <td>1</td>\n",
       "      <td>2</td>\n",
       "      <td>28.3</td>\n",
       "      <td>7.3</td>\n",
       "      <td>5.4</td>\n",
       "      <td>13.1</td>\n",
       "      <td>ausente</td>\n",
       "      <td>ausente</td>\n",
       "      <td>54.1</td>\n",
       "    </tr>\n",
       "    <tr>\n",
       "      <th>2</th>\n",
       "      <td>3</td>\n",
       "      <td>A</td>\n",
       "      <td>1</td>\n",
       "      <td>3</td>\n",
       "      <td>27.1</td>\n",
       "      <td>7.1</td>\n",
       "      <td>5.0</td>\n",
       "      <td>14.9</td>\n",
       "      <td>ausente</td>\n",
       "      <td>ausente</td>\n",
       "      <td>54.1</td>\n",
       "    </tr>\n",
       "    <tr>\n",
       "      <th>3</th>\n",
       "      <td>4</td>\n",
       "      <td>A</td>\n",
       "      <td>1</td>\n",
       "      <td>4</td>\n",
       "      <td>26.5</td>\n",
       "      <td>8.4</td>\n",
       "      <td>3.9</td>\n",
       "      <td>12.4</td>\n",
       "      <td>presente</td>\n",
       "      <td>presente</td>\n",
       "      <td>51.2</td>\n",
       "    </tr>\n",
       "    <tr>\n",
       "      <th>4</th>\n",
       "      <td>5</td>\n",
       "      <td>A</td>\n",
       "      <td>2</td>\n",
       "      <td>1</td>\n",
       "      <td>27.7</td>\n",
       "      <td>7.6</td>\n",
       "      <td>4.7</td>\n",
       "      <td>12.1</td>\n",
       "      <td>ausente</td>\n",
       "      <td>ausente</td>\n",
       "      <td>52.1</td>\n",
       "    </tr>\n",
       "    <tr>\n",
       "      <th>...</th>\n",
       "      <td>...</td>\n",
       "      <td>...</td>\n",
       "      <td>...</td>\n",
       "      <td>...</td>\n",
       "      <td>...</td>\n",
       "      <td>...</td>\n",
       "      <td>...</td>\n",
       "      <td>...</td>\n",
       "      <td>...</td>\n",
       "      <td>...</td>\n",
       "      <td>...</td>\n",
       "    </tr>\n",
       "    <tr>\n",
       "      <th>147</th>\n",
       "      <td>148</td>\n",
       "      <td>B</td>\n",
       "      <td>18</td>\n",
       "      <td>4</td>\n",
       "      <td>23.5</td>\n",
       "      <td>7.4</td>\n",
       "      <td>4.3</td>\n",
       "      <td>12.2</td>\n",
       "      <td>ausente</td>\n",
       "      <td>presente</td>\n",
       "      <td>47.4</td>\n",
       "    </tr>\n",
       "    <tr>\n",
       "      <th>148</th>\n",
       "      <td>149</td>\n",
       "      <td>B</td>\n",
       "      <td>19</td>\n",
       "      <td>1</td>\n",
       "      <td>24.1</td>\n",
       "      <td>8.3</td>\n",
       "      <td>4.8</td>\n",
       "      <td>12.9</td>\n",
       "      <td>ausente</td>\n",
       "      <td>ausente</td>\n",
       "      <td>50.1</td>\n",
       "    </tr>\n",
       "    <tr>\n",
       "      <th>149</th>\n",
       "      <td>150</td>\n",
       "      <td>B</td>\n",
       "      <td>19</td>\n",
       "      <td>2</td>\n",
       "      <td>24.1</td>\n",
       "      <td>8.0</td>\n",
       "      <td>4.5</td>\n",
       "      <td>10.9</td>\n",
       "      <td>ausente</td>\n",
       "      <td>ausente</td>\n",
       "      <td>47.5</td>\n",
       "    </tr>\n",
       "    <tr>\n",
       "      <th>150</th>\n",
       "      <td>151</td>\n",
       "      <td>B</td>\n",
       "      <td>19</td>\n",
       "      <td>3</td>\n",
       "      <td>23.0</td>\n",
       "      <td>8.5</td>\n",
       "      <td>4.3</td>\n",
       "      <td>11.7</td>\n",
       "      <td>ausente</td>\n",
       "      <td>presente</td>\n",
       "      <td>47.5</td>\n",
       "    </tr>\n",
       "    <tr>\n",
       "      <th>151</th>\n",
       "      <td>152</td>\n",
       "      <td>B</td>\n",
       "      <td>19</td>\n",
       "      <td>4</td>\n",
       "      <td>22.7</td>\n",
       "      <td>7.8</td>\n",
       "      <td>4.2</td>\n",
       "      <td>15.7</td>\n",
       "      <td>ausente</td>\n",
       "      <td>presente</td>\n",
       "      <td>50.4</td>\n",
       "    </tr>\n",
       "  </tbody>\n",
       "</table>\n",
       "<p>152 rows × 11 columns</p>\n",
       "</div>"
      ],
      "text/plain": [
       "      Id Bloco  Andar  Final  Sala  Cozinha  Banheiro  Dorm Rachadura  \\\n",
       "0      1     A      1      1  27.8      7.9       5.0  11.6   ausente   \n",
       "1      2     A      1      2  28.3      7.3       5.4  13.1   ausente   \n",
       "2      3     A      1      3  27.1      7.1       5.0  14.9   ausente   \n",
       "3      4     A      1      4  26.5      8.4       3.9  12.4  presente   \n",
       "4      5     A      2      1  27.7      7.6       4.7  12.1   ausente   \n",
       "..   ...   ...    ...    ...   ...      ...       ...   ...       ...   \n",
       "147  148     B     18      4  23.5      7.4       4.3  12.2   ausente   \n",
       "148  149     B     19      1  24.1      8.3       4.8  12.9   ausente   \n",
       "149  150     B     19      2  24.1      8.0       4.5  10.9   ausente   \n",
       "150  151     B     19      3  23.0      8.5       4.3  11.7   ausente   \n",
       "151  152     B     19      4  22.7      7.8       4.2  15.7   ausente   \n",
       "\n",
       "      Infiltr  Area Total  \n",
       "0     ausente        52.3  \n",
       "1     ausente        54.1  \n",
       "2     ausente        54.1  \n",
       "3    presente        51.2  \n",
       "4     ausente        52.1  \n",
       "..        ...         ...  \n",
       "147  presente        47.4  \n",
       "148   ausente        50.1  \n",
       "149   ausente        47.5  \n",
       "150  presente        47.5  \n",
       "151  presente        50.4  \n",
       "\n",
       "[152 rows x 11 columns]"
      ]
     },
     "execution_count": 36,
     "metadata": {},
     "output_type": "execute_result"
    }
   ],
   "source": [
    "areas['Area Total'] = areas['Sala'] + areas['Cozinha'] + areas['Banheiro'] + areas['Dorm']\n",
    "areas"
   ]
  },
  {
   "cell_type": "markdown",
   "id": "9051c9ee-e641-46be-8190-2faf33e28dcf",
   "metadata": {},
   "source": [
    "# 3. Para a área de cada cômodo e para a área útil total (isto é, para as variáveis quantitativas contínuas), faça um histograma"
   ]
  },
  {
   "cell_type": "code",
   "execution_count": 38,
   "id": "60e0c779-8451-4362-a234-4accc59ffe46",
   "metadata": {
    "tags": []
   },
   "outputs": [],
   "source": [
    "import matplotlib.pyplot as plt"
   ]
  },
  {
   "cell_type": "markdown",
   "id": "f7e2a68b-0754-4fe9-8b1e-e8dec4aec95a",
   "metadata": {},
   "source": [
    "# SALA"
   ]
  },
  {
   "cell_type": "code",
   "execution_count": 40,
   "id": "d2ccc3eb-8b74-480d-bd62-8e27f94a4cdf",
   "metadata": {
    "tags": []
   },
   "outputs": [
    {
     "data": {
      "text/plain": [
       "Text(0, 0.5, 'Tamanho')"
      ]
     },
     "execution_count": 40,
     "metadata": {},
     "output_type": "execute_result"
    },
    {
     "data": {
      "image/png": "[encoded data removed]",
      "text/plain": [
       "<Figure size 640x480 with 1 Axes>"
      ]
     },
     "metadata": {},
     "output_type": "display_data"
    }
   ],
   "source": [
    "plt.hist(areas['Sala'], bins = 8, edgecolor = \"black\", color = \"yellow\")\n",
    "plt.title(\"Distribuição das áreas\")\n",
    "plt.xlabel(\"Sala\")\n",
    "plt.ylabel(\"Tamanho\")"
   ]
  },
  {
   "cell_type": "markdown",
   "id": "4fe0b6d5-771d-418e-94ff-17e061e6a23b",
   "metadata": {},
   "source": [
    "# COZINHA"
   ]
  },
  {
   "cell_type": "code",
   "execution_count": 41,
   "id": "0786e183-5991-4c42-bf02-7474e47831a2",
   "metadata": {
    "tags": []
   },
   "outputs": [
    {
     "data": {
      "text/plain": [
       "Text(0, 0.5, 'Área')"
      ]
     },
     "execution_count": 41,
     "metadata": {},
     "output_type": "execute_result"
    },
    {
     "data": {
      "image/png": "[encoded data removed]",
      "text/plain": [
       "<Figure size 640x480 with 1 Axes>"
      ]
     },
     "metadata": {},
     "output_type": "display_data"
    }
   ],
   "source": [
    "plt.hist(areas['Cozinha'], bins = 8, edgecolor = \"black\", color = \"yellow\")\n",
    "plt.title(\"Distribuição das áreas\")\n",
    "plt.xlabel(\"Cozinha\")\n",
    "plt.ylabel(\"Área\")"
   ]
  },
  {
   "cell_type": "markdown",
   "id": "039b4f2f-56fe-4719-bb9f-d754abd2c761",
   "metadata": {},
   "source": [
    "# BANHEIRO"
   ]
  },
  {
   "cell_type": "code",
   "execution_count": 42,
   "id": "42cb7f79-6bb1-4ecf-9942-90f4bec50929",
   "metadata": {
    "tags": []
   },
   "outputs": [
    {
     "data": {
      "text/plain": [
       "Text(0, 0.5, 'Área')"
      ]
     },
     "execution_count": 42,
     "metadata": {},
     "output_type": "execute_result"
    },
    {
     "data": {
      "image/png": "[encoded data removed]",
      "text/plain": [
       "<Figure size 640x480 with 1 Axes>"
      ]
     },
     "metadata": {},
     "output_type": "display_data"
    }
   ],
   "source": [
    "plt.hist(areas['Banheiro'], bins = 8, edgecolor = \"black\", color = \"YELLOW\")\n",
    "plt.title(\"Distribuição das áreas\")\n",
    "plt.xlabel(\"Banheiro\")\n",
    "plt.ylabel(\"Área\")"
   ]
  },
  {
   "cell_type": "markdown",
   "id": "99ac2651-e390-4921-bfeb-9bf2a4de7e05",
   "metadata": {},
   "source": [
    "# dormitório"
   ]
  },
  {
   "cell_type": "code",
   "execution_count": 43,
   "id": "67214497-043f-43d6-ac3c-32ea9f79ddc6",
   "metadata": {
    "tags": []
   },
   "outputs": [
    {
     "data": {
      "text/plain": [
       "Text(0, 0.5, 'Área')"
      ]
     },
     "execution_count": 43,
     "metadata": {},
     "output_type": "execute_result"
    },
    {
     "data": {
      "image/png": "[encoded data removed]",
      "text/plain": [
       "<Figure size 640x480 with 1 Axes>"
      ]
     },
     "metadata": {},
     "output_type": "display_data"
    }
   ],
   "source": [
    "plt.hist(areas['Dorm'], bins = 8, edgecolor = \"black\", color = \"yellow\")\n",
    "plt.title(\"Distribuição das áreas\")\n",
    "plt.xlabel(\"Dormitório\")\n",
    "plt.ylabel(\"Área\")"
   ]
  },
  {
   "cell_type": "markdown",
   "id": "336850d6-88d0-49f5-b719-f26120c6779b",
   "metadata": {},
   "source": [
    "# ÁREA TOTAL"
   ]
  },
  {
   "cell_type": "code",
   "execution_count": 44,
   "id": "79972e56-6073-42ed-8a9c-48a1d643e680",
   "metadata": {
    "tags": []
   },
   "outputs": [
    {
     "data": {
      "text/plain": [
       "Text(0, 0.5, 'Área')"
      ]
     },
     "execution_count": 44,
     "metadata": {},
     "output_type": "execute_result"
    },
    {
     "data": {
      "image/png": "[encoded data removed]",
      "text/plain": [
       "<Figure size 640x480 with 1 Axes>"
      ]
     },
     "metadata": {},
     "output_type": "display_data"
    }
   ],
   "source": [
    "plt.hist(areas['Area Total'], bins = 8, edgecolor = \"black\", color = \"YELLOW\")\n",
    "plt.title(\"Distribuição das áreas\")\n",
    "plt.xlabel(\"Apartamentos\")\n",
    "plt.ylabel(\"Área\")"
   ]
  },
  {
   "cell_type": "markdown",
   "id": "dd1c79e8-99bd-494e-ae48-2d888805dbed",
   "metadata": {},
   "source": [
    "# 4. Agora, em separado para o bloco A e o bloco B:"
   ]
  },
  {
   "cell_type": "markdown",
   "id": "b24bcfa7-253a-4177-911f-ec65d2919be2",
   "metadata": {},
   "source": [
    "# a. Calcule a média e o desvio-padrão da área de cada cômodo e também da área total."
   ]
  },
  {
   "cell_type": "code",
   "execution_count": 45,
   "id": "8882b8f6-1ff6-45a4-8da2-3c4c4db89bcd",
   "metadata": {
    "tags": []
   },
   "outputs": [
    {
     "data": {
      "text/plain": [
       "Bloco\n",
       "A    28.093421\n",
       "B    23.131579\n",
       "Name: Sala, dtype: float64"
      ]
     },
     "execution_count": 45,
     "metadata": {},
     "output_type": "execute_result"
    }
   ],
   "source": [
    "#SALA - média\n",
    "\n",
    "areas.groupby(['Bloco'])['Sala'].mean()\n"
   ]
  },
  {
   "cell_type": "code",
   "execution_count": 46,
   "id": "2bc53b8d-96a1-4348-aef0-60bae7850ab0",
   "metadata": {
    "tags": []
   },
   "outputs": [
    {
     "data": {
      "text/plain": [
       "Bloco\n",
       "A    1.082631\n",
       "B    0.848875\n",
       "Name: Sala, dtype: float64"
      ]
     },
     "execution_count": 46,
     "metadata": {},
     "output_type": "execute_result"
    }
   ],
   "source": [
    "#sala - desvio\n",
    "areas.groupby(['Bloco'])['Sala'].std()\n"
   ]
  },
  {
   "cell_type": "code",
   "execution_count": 48,
   "id": "e3778ca8-a95b-4973-87f4-e781ea0a1757",
   "metadata": {
    "tags": []
   },
   "outputs": [
    {
     "data": {
      "text/plain": [
       "Bloco\n",
       "A    7.928947\n",
       "B    7.881579\n",
       "Name: Cozinha, dtype: float64"
      ]
     },
     "execution_count": 48,
     "metadata": {},
     "output_type": "execute_result"
    }
   ],
   "source": [
    "#cozinha - media\n",
    "areas.groupby(['Bloco'])['Cozinha'].mean()\n"
   ]
  },
  {
   "cell_type": "code",
   "execution_count": 49,
   "id": "f34a00ab-d7b2-44e9-a8e8-b3af2a9d23fb",
   "metadata": {
    "tags": []
   },
   "outputs": [
    {
     "data": {
      "text/plain": [
       "Bloco\n",
       "A    0.465279\n",
       "B    0.604805\n",
       "Name: Cozinha, dtype: float64"
      ]
     },
     "execution_count": 49,
     "metadata": {},
     "output_type": "execute_result"
    }
   ],
   "source": [
    "#cozinha - desvio\n",
    "areas.groupby(['Bloco'])['Cozinha'].std()\n"
   ]
  },
  {
   "cell_type": "code",
   "execution_count": 51,
   "id": "2dde3a2e-dc83-4ee0-af4f-a3ee2ab49d49",
   "metadata": {
    "tags": []
   },
   "outputs": [
    {
     "data": {
      "text/plain": [
       "Bloco\n",
       "A    4.450000\n",
       "B    4.464474\n",
       "Name: Banheiro, dtype: float64"
      ]
     },
     "execution_count": 51,
     "metadata": {},
     "output_type": "execute_result"
    }
   ],
   "source": [
    "#banheiro - média\n",
    "areas.groupby(['Bloco'])['Banheiro'].mean()\n"
   ]
  },
  {
   "cell_type": "code",
   "execution_count": 52,
   "id": "2c9fd2cd-7692-4ec8-a108-2adbcbef5b90",
   "metadata": {
    "tags": []
   },
   "outputs": [
    {
     "data": {
      "text/plain": [
       "Bloco\n",
       "A    0.462313\n",
       "B    0.515805\n",
       "Name: Banheiro, dtype: float64"
      ]
     },
     "execution_count": 52,
     "metadata": {},
     "output_type": "execute_result"
    }
   ],
   "source": [
    "#banheiro - desvio\n",
    "areas.groupby(['Bloco'])['Banheiro'].std()\n"
   ]
  },
  {
   "cell_type": "code",
   "execution_count": 53,
   "id": "009078a5-2721-45f4-8504-6a9bc9b951c2",
   "metadata": {
    "tags": []
   },
   "outputs": [
    {
     "data": {
      "text/plain": [
       "Bloco\n",
       "A    12.950000\n",
       "B    12.928947\n",
       "Name: Dorm, dtype: float64"
      ]
     },
     "execution_count": 53,
     "metadata": {},
     "output_type": "execute_result"
    }
   ],
   "source": [
    "#média - dormitório\n",
    "areas.groupby(['Bloco'])['Dorm'].mean()\n"
   ]
  },
  {
   "cell_type": "code",
   "execution_count": 54,
   "id": "1d0e9c46-4b77-486f-ad38-145eb86ffc21",
   "metadata": {
    "tags": []
   },
   "outputs": [
    {
     "data": {
      "text/plain": [
       "Bloco\n",
       "A    1.172860\n",
       "B    1.176528\n",
       "Name: Dorm, dtype: float64"
      ]
     },
     "execution_count": 54,
     "metadata": {},
     "output_type": "execute_result"
    }
   ],
   "source": [
    "#desvio - dormitório\n",
    "areas.groupby(['Bloco'])['Dorm'].std()\n"
   ]
  },
  {
   "cell_type": "code",
   "execution_count": 55,
   "id": "80fa3155-ab6b-4d8e-847c-71761b9e8ea0",
   "metadata": {
    "tags": []
   },
   "outputs": [
    {
     "data": {
      "text/plain": [
       "Bloco\n",
       "A    53.422368\n",
       "B    48.406579\n",
       "Name: Area Total, dtype: float64"
      ]
     },
     "execution_count": 55,
     "metadata": {},
     "output_type": "execute_result"
    }
   ],
   "source": [
    "#área total\n",
    "areas.groupby(['Bloco'])['Area Total'].mean()\n"
   ]
  },
  {
   "cell_type": "code",
   "execution_count": 56,
   "id": "0eb6318b-5372-4264-aa49-dabf10c68dd4",
   "metadata": {
    "tags": []
   },
   "outputs": [
    {
     "data": {
      "text/plain": [
       "Bloco\n",
       "A    1.771749\n",
       "B    1.537906\n",
       "Name: Area Total, dtype: float64"
      ]
     },
     "execution_count": 56,
     "metadata": {},
     "output_type": "execute_result"
    }
   ],
   "source": [
    "areas.groupby(['Bloco'])['Area Total'].std()\n"
   ]
  },
  {
   "cell_type": "markdown",
   "id": "7694546d-d680-48fb-b244-671de1301d01",
   "metadata": {},
   "source": [
    "# b. Construa boxplots e compare as áreas para cada cômodo considerado."
   ]
  },
  {
   "cell_type": "code",
   "execution_count": 58,
   "id": "45547e45-5b54-4452-9876-11d4e9d87b68",
   "metadata": {
    "tags": []
   },
   "outputs": [],
   "source": [
    "import seaborn as sns"
   ]
  },
  {
   "cell_type": "markdown",
   "id": "2b832efb-936b-429d-8cae-64e6c379d875",
   "metadata": {},
   "source": [
    "# SALA"
   ]
  },
  {
   "cell_type": "code",
   "execution_count": 59,
   "id": "3f123b03-8b51-47cf-9f75-c0f3198e0a2b",
   "metadata": {
    "tags": []
   },
   "outputs": [
    {
     "data": {
      "text/plain": [
       "<Axes: xlabel='Bloco', ylabel='Sala'>"
      ]
     },
     "execution_count": 59,
     "metadata": {},
     "output_type": "execute_result"
    },
    {
     "data": {
      "image/png": "[encoded data removed]",
      "text/plain": [
       "<Figure size 640x480 with 1 Axes>"
      ]
     },
     "metadata": {},
     "output_type": "display_data"
    }
   ],
   "source": [
    "sns.boxplot( x = 'Bloco', y = 'Sala', data = areas)\n"
   ]
  },
  {
   "cell_type": "markdown",
   "id": "b457319f-a2cf-4bb5-ae90-57a76c685c31",
   "metadata": {},
   "source": [
    "# COZINHA"
   ]
  },
  {
   "cell_type": "code",
   "execution_count": 60,
   "id": "6a882282-93e3-418e-aafc-35cd17d4ba15",
   "metadata": {
    "tags": []
   },
   "outputs": [
    {
     "data": {
      "text/plain": [
       "<Axes: xlabel='Bloco', ylabel='Cozinha'>"
      ]
     },
     "execution_count": 60,
     "metadata": {},
     "output_type": "execute_result"
    },
    {
     "data": {
      "image/png": "[encoded data removed]",
      "text/plain": [
       "<Figure size 640x480 with 1 Axes>"
      ]
     },
     "metadata": {},
     "output_type": "display_data"
    }
   ],
   "source": [
    "sns.boxplot( x = 'Bloco', y = 'Cozinha', data = areas)"
   ]
  },
  {
   "cell_type": "markdown",
   "id": "0004dad2-38b1-44cf-b8f2-5f6cb5fa666e",
   "metadata": {},
   "source": [
    "# BANHEIRO"
   ]
  },
  {
   "cell_type": "code",
   "execution_count": 61,
   "id": "cc553f3b-362c-4867-ae7c-bc1444f76dd3",
   "metadata": {
    "tags": []
   },
   "outputs": [
    {
     "data": {
      "text/plain": [
       "<Axes: xlabel='Bloco', ylabel='Banheiro'>"
      ]
     },
     "execution_count": 61,
     "metadata": {},
     "output_type": "execute_result"
    },
    {
     "data": {
      "image/png": "[encoded data removed]",
      "text/plain": [
       "<Figure size 640x480 with 1 Axes>"
      ]
     },
     "metadata": {},
     "output_type": "display_data"
    }
   ],
   "source": [
    "sns.boxplot( x = 'Bloco', y = 'Banheiro', data = areas)"
   ]
  },
  {
   "cell_type": "markdown",
   "id": "31056629-21cd-4d32-ba8d-dfacb41e8456",
   "metadata": {},
   "source": [
    "# DORMITÓRIO"
   ]
  },
  {
   "cell_type": "code",
   "execution_count": 62,
   "id": "decc39a3-0351-4c6f-819a-d0f558e99f42",
   "metadata": {
    "tags": []
   },
   "outputs": [
    {
     "data": {
      "text/plain": [
       "<Axes: xlabel='Bloco', ylabel='Dorm'>"
      ]
     },
     "execution_count": 62,
     "metadata": {},
     "output_type": "execute_result"
    },
    {
     "data": {
      "image/png": "[encoded data removed]",
      "text/plain": [
       "<Figure size 640x480 with 1 Axes>"
      ]
     },
     "metadata": {},
     "output_type": "display_data"
    }
   ],
   "source": [
    "sns.boxplot( x = 'Bloco', y = 'Dorm', data = areas)"
   ]
  },
  {
   "cell_type": "markdown",
   "id": "85ecbf4d-308b-4cdf-ad52-b687561b8eff",
   "metadata": {},
   "source": [
    "# c. Com base em seus achados, você diria que existem diferenças nas áreas dos apartamentos dos blocos A e B? Em caso positivo, qual (is) cômodo (s) apresenta (m) o problema?"
   ]
  },
  {
   "cell_type": "markdown",
   "id": "c9250d82-cf2b-48a7-9519-f8ff1f09ddb3",
   "metadata": {},
   "source": [
    "Há, de fato, uma diferença no tamanho dos apartamentos, sendo que as salas do Bloco A são consideravelmente maiores do que as do Bloco B, o que causa essa variação."
   ]
  }
 ],
 "metadata": {
  "kernelspec": {
   "display_name": "Python 3 (ipykernel)",
   "language": "python",
   "name": "python3"
  },
  "language_info": {
   "codemirror_mode": {
    "name": "ipython",
    "version": 3
   },
   "file_extension": ".py",
   "mimetype": "text/x-python",
   "name": "python",
   "nbconvert_exporter": "python",
   "pygments_lexer": "ipython3",
   "version": "3.11.5"
  }
 },
 "nbformat": 4,
 "nbformat_minor": 5
}
